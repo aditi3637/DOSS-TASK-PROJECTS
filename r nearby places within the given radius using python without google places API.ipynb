{
 "cells": [
  {
   "cell_type": "code",
   "execution_count": 1,
   "id": "3b3ea3f5",
   "metadata": {},
   "outputs": [
    {
     "name": "stdout",
     "output_type": "stream",
     "text": [
      "What type of place are you looking for? (e.g., park, mall, ATM, hotel): park\n",
      "Enter the search radius (in kilometers): 20\n",
      "\n",
      "Your current location: Dugawan, Naka Hindola, Lucknow, Uttar Pradesh, 226018, India\n",
      "\n",
      "Dugawan, Naka Hindola, Lucknow, Uttar Pradesh, India (0.32 km)\n",
      "Dugawan, Ganeshganj, Lucknow, Uttar Pradesh, India (0.46 km)\n",
      "Naka Hindola, Lucknow, Uttar Pradesh, India (0.55 km)\n",
      "Charbagh, Lucknow, Uttar Pradesh, India (0.82 km)\n",
      "Gunge Nawab Park, Dugawan, Aminabad, Lucknow, Uttar Pradesh, 226018, India (0.85 km)\n",
      "Janana Park, Dugawan, Aminabad, Lucknow, Uttar Pradesh, 226018, India (0.90 km)\n",
      "Dugawan, Aminabad, Lucknow, Uttar Pradesh, 226018, India (0.92 km)\n",
      "Model House Park, Aminabad, Lucknow, Uttar Pradesh, 226018, India (0.93 km)\n",
      "Jhandewala Park, Dugawan, Aminabad, Lucknow, Uttar Pradesh, 226018, India (1.00 km)\n",
      "Rajendra Prasad Park, Dugawan, Moti Nagar, Lucknow, Uttar Pradesh, India (0.93 km)\n"
     ]
    }
   ],
   "source": [
    "from geopy.geocoders import Nominatim\n",
    "from geopy.distance import geodesic\n",
    "import requests\n",
    "\n",
    "def get_user_location():\n",
    "    try:\n",
    "        response = requests.get('https://ipinfo.io')\n",
    "        data = response.json()\n",
    "        return data['loc'].split(',')\n",
    "    except:\n",
    "        print(\"Error: Unable to detect your location.\")\n",
    "        return None, None\n",
    "\n",
    "def find_nearby_places(lat, lon, place_type, radius):\n",
    "    geolocator = Nominatim(user_agent=\"nearby_search\")\n",
    "    location = geolocator.reverse((lat, lon))\n",
    "    print(f\"\\nYour current location: {location}\\n\")\n",
    "    query = f\"{place_type} near {lat}, {lon}\"\n",
    "    try:\n",
    "        places = geolocator.geocode(query, exactly_one=False, limit=None)\n",
    "        if places:\n",
    "            for place in places:\n",
    "                place_coords = (place.latitude, place.longitude)\n",
    "                place_distance = geodesic((lat, lon), place_coords).kilometers\n",
    "                if place_distance <= radius:\n",
    "                    print(f\"{place.address} ({place_distance:.2f} km)\")\n",
    "        else:\n",
    "            print(\"No nearby places found for the given type.\")\n",
    "    except:\n",
    "        print(\"Error: Unable to fetch nearby places.\")\n",
    "\n",
    "if __name__ == \"__main__\":\n",
    "    user_lat, user_lon = get_user_location()\n",
    "    if user_lat is not None and user_lon is not None:\n",
    "        place_type = input(\"What type of place are you looking for? (e.g., park, mall, ATM, hotel): \")\n",
    "        search_radius = float(input(\"Enter the search radius (in kilometers): \"))\n",
    "        find_nearby_places(float(user_lat), float(user_lon), place_type, search_radius)"
   ]
  },
  {
   "cell_type": "code",
   "execution_count": null,
   "id": "fb291655",
   "metadata": {},
   "outputs": [],
   "source": []
  }
 ],
 "metadata": {
  "kernelspec": {
   "display_name": "Python 3 (ipykernel)",
   "language": "python",
   "name": "python3"
  },
  "language_info": {
   "codemirror_mode": {
    "name": "ipython",
    "version": 3
   },
   "file_extension": ".py",
   "mimetype": "text/x-python",
   "name": "python",
   "nbconvert_exporter": "python",
   "pygments_lexer": "ipython3",
   "version": "3.11.5"
  }
 },
 "nbformat": 4,
 "nbformat_minor": 5
}
